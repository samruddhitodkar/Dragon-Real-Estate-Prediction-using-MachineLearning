{
 "cells": [
  {
   "cell_type": "code",
   "execution_count": 7,
   "id": "4f4d1ad0-6bc1-44c8-b059-14d73254820a",
   "metadata": {},
   "outputs": [
    {
     "ename": "NameError",
     "evalue": "name 'strat_test_set' is not defined",
     "output_type": "error",
     "traceback": [
      "\u001b[0;31m---------------------------------------------------------------------------\u001b[0m",
      "\u001b[0;31mNameError\u001b[0m                                 Traceback (most recent call last)",
      "Cell \u001b[0;32mIn[7], line 1\u001b[0m\n\u001b[0;32m----> 1\u001b[0m X_test \u001b[38;5;241m=\u001b[39m strat_test_set\u001b[38;5;241m.\u001b[39mdrop(\u001b[38;5;124m\"\u001b[39m\u001b[38;5;124mMEDV\u001b[39m\u001b[38;5;124m\"\u001b[39m, axis\u001b[38;5;241m=\u001b[39m\u001b[38;5;241m1\u001b[39m)\n\u001b[1;32m      2\u001b[0m Y_test \u001b[38;5;241m=\u001b[39m strat_test_set[\u001b[38;5;124m\"\u001b[39m\u001b[38;5;124mMEDV\u001b[39m\u001b[38;5;124m\"\u001b[39m]\u001b[38;5;241m.\u001b[39mcopy()\n\u001b[1;32m      3\u001b[0m X_test_prepared\u001b[38;5;241m=\u001b[39mmy_pipeline\u001b[38;5;241m.\u001b[39mtransform(X_test)\n",
      "\u001b[0;31mNameError\u001b[0m: name 'strat_test_set' is not defined"
     ]
    }
   ],
   "source": [
    "X_test = strat_test_set.drop(\"MEDV\", axis=1)\n",
    "Y_test = strat_test_set[\"MEDV\"].copy()\n",
    "X_test_prepared=my_pipeline.transform(X_test)\n",
    "final_predictions=model.predict(X_test_prepared)\n",
    "final_mse=mean_squared_error(Y_test,final_predictions)\n",
    "final_rsme=np.sqrt(final_mse)\n",
    "print(final_predictions,list(Y_test))"
   ]
  },
  {
   "cell_type": "code",
   "execution_count": null,
   "id": "7273ab31-5e25-4dda-bdf8-fd263c785bf5",
   "metadata": {},
   "outputs": [],
   "source": [
    "final_rsme"
   ]
  },
  {
   "cell_type": "code",
   "execution_count": null,
   "id": "5ac39f69-0d98-407b-826f-c7a4d7dda8de",
   "metadata": {},
   "outputs": [],
   "source": [
    "prepared_data[0]"
   ]
  }
 ],
 "metadata": {
  "kernelspec": {
   "display_name": "anaconda-panel-2023.05-py310",
   "language": "python",
   "name": "conda-env-anaconda-panel-2023.05-py310-py"
  },
  "language_info": {
   "codemirror_mode": {
    "name": "ipython",
    "version": 3
   },
   "file_extension": ".py",
   "mimetype": "text/x-python",
   "name": "python",
   "nbconvert_exporter": "python",
   "pygments_lexer": "ipython3",
   "version": "3.11.5"
  }
 },
 "nbformat": 4,
 "nbformat_minor": 5
}
